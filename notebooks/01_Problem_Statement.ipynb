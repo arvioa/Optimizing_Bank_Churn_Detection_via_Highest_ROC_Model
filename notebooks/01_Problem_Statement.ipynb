{
 "cells": [
  {
   "cell_type": "markdown",
   "id": "623655d7",
   "metadata": {},
   "source": [
    "# Problem Statement"
   ]
  },
  {
   "cell_type": "markdown",
   "id": "ffc9030b",
   "metadata": {},
   "source": [
    "### Context\n",
    "\n",
    "In today's digital age, the banking industry is continuously evolving, offering a myriad of services to its customers. One crucial aspect of this evolution is customer retention, especially in the realm of banking where customers often have numerous options at their disposal. Churn prediction, the ability to forecast whether a customer is likely to leave a bank, is a vital focus for financial institutions aiming to enhance customer satisfaction and maintain a loyal customer base.\n",
    "\n",
    "Banks offer a wide array of services, ranging from savings and checking accounts to loans and credit cards. Among these, one of the key offerings is customer relationship management, where personalized services and tailored financial products are designed to meet individual customer needs. However, predicting which customers are more likely to churn can be a challenging task.\n",
    "\n",
    "This project aims to leverage machine learning techniques to build an accurate binary classification model for churn prediction in the banking sector. By analyzing historical customer data, including transaction patterns, account activity, customer demographics, and customer service interactions, the objective is to create a robust predictive model. The focus is on predicting whether a bank customer is likely to churn or stay, thereby allowing the bank to take proactive measures to retain potential churners.\n",
    "\n",
    "Accurate churn prediction is essential for banks to strategize their customer engagement efforts effectively. By identifying customers at risk of churning, the bank can implement targeted marketing campaigns, personalized offers, and improved customer service experiences. These proactive measures not only enhance customer satisfaction but also contribute significantly to the bank's revenue and long-term sustainability.\n",
    "\n",
    "The aim of this project is to create model which is able to predict whether a customer might churn."
   ]
  },
  {
   "cell_type": "markdown",
   "id": "358426b1",
   "metadata": {},
   "source": [
    "### Business Objective\n",
    "The business objective of this project is to help the bank to predict which customer might churn, and in turn the bank could minize cost expense and efforts,to optimize cost and increase time efficiency."
   ]
  },
  {
   "cell_type": "markdown",
   "id": "03588c6d",
   "metadata": {},
   "source": [
    "### Output\n",
    "The output of this project is the predicted outcome of customer's churn decision, whether they are leaving the bank or not, given the features such as Age, CreditScore, EstimatedSalary, etc."
   ]
  },
  {
   "cell_type": "markdown",
   "id": "a9ad5a8a",
   "metadata": {},
   "source": [
    "### Machine Learning Type\n",
    "The project will be built upon supervised learning method, as the target features are already provided in the dataset, which is the Exited/Churned customers."
   ]
  },
  {
   "cell_type": "markdown",
   "id": "34980a33",
   "metadata": {},
   "source": [
    "### Performance Measure\n",
    "The primary evaluation metric for the model's performance will be the Area Under the Receiver Operating Characteristic Curve (AUC-ROC score). A high AUC-ROC score indicates the model's ability to distinguish between churn and non-churn customers effectively, making it a reliable tool for the bank to make data-driven decisions and prioritize customer retention strategies."
   ]
  }
 ],
 "metadata": {
  "kernelspec": {
   "display_name": "Python 3",
   "language": "python",
   "name": "python3"
  },
  "language_info": {
   "codemirror_mode": {
    "name": "ipython",
    "version": 3
   },
   "file_extension": ".py",
   "mimetype": "text/x-python",
   "name": "python",
   "nbconvert_exporter": "python",
   "pygments_lexer": "ipython3",
   "version": "3.8.8"
  }
 },
 "nbformat": 4,
 "nbformat_minor": 5
}
