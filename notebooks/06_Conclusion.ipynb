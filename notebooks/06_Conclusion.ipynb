{
 "cells": [
  {
   "cell_type": "markdown",
   "id": "2340c758",
   "metadata": {},
   "source": [
    "# Conclusion and Recommendations"
   ]
  },
  {
   "cell_type": "markdown",
   "id": "3f129199",
   "metadata": {},
   "source": [
    "### Conclusion"
   ]
  },
  {
   "cell_type": "markdown",
   "id": "89d29b93",
   "metadata": {},
   "source": [
    "By harnessing the power of Machine Learning, the bank would have saved up 65.57% expense costs for marketing and customer retention efforts. This is a good reason for the bank to use machine learning in determining which customer would likely churn."
   ]
  },
  {
   "cell_type": "markdown",
   "id": "6c4be609",
   "metadata": {},
   "source": [
    "### Recommendations"
   ]
  },
  {
   "cell_type": "markdown",
   "id": "bdd45c19",
   "metadata": {},
   "source": [
    "Our best recommendations for the bank moving forward is to:\n",
    "- Increase data points and volume to the model to prevent underfitting and improves overall score in predicting unseen datasets.\n",
    "- Investigate the cause of complains upon the system, fixed them, iterate, and hopefully gain new insights.\n",
    "- Focus on retention efforts on customers based on their age groups.\n",
    "- Focus on retention efforts on customers that are active as a member in the bank."
   ]
  }
 ],
 "metadata": {
  "kernelspec": {
   "display_name": "Python 3",
   "language": "python",
   "name": "python3"
  },
  "language_info": {
   "codemirror_mode": {
    "name": "ipython",
    "version": 3
   },
   "file_extension": ".py",
   "mimetype": "text/x-python",
   "name": "python",
   "nbconvert_exporter": "python",
   "pygments_lexer": "ipython3",
   "version": "3.8.8"
  }
 },
 "nbformat": 4,
 "nbformat_minor": 5
}
